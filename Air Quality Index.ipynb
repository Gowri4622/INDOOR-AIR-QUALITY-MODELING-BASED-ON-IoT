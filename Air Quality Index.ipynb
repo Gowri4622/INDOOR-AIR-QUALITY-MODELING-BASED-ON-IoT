{
 "cells": [
  {
   "cell_type": "code",
   "execution_count": 8,
   "id": "062573dc",
   "metadata": {},
   "outputs": [],
   "source": [
    "import numpy as np \n",
    "import pandas as pd \n",
    "import warnings\n",
    "warnings.filterwarnings('ignore')\n",
    "\n",
    "from sklearn.model_selection import train_test_split\n",
    "from sklearn.ensemble import RandomForestRegressor\n",
    "from sklearn import metrics\n",
    "from sklearn.metrics import mean_absolute_error,mean_squared_error,r2_score,accuracy_score\n",
    "from sklearn.linear_model import LogisticRegression\n"
   ]
  },
  {
   "cell_type": "code",
   "execution_count": 9,
   "id": "32e99f5d",
   "metadata": {},
   "outputs": [],
   "source": [
    "data=pd.read_csv('data.csv',encoding=\"ISO-8859-1\")\n"
   ]
  },
  {
   "cell_type": "code",
   "execution_count": 10,
   "id": "696c9be3",
   "metadata": {},
   "outputs": [],
   "source": [
    "data.fillna(0, inplace=True)\n"
   ]
  },
  {
   "cell_type": "code",
   "execution_count": 11,
   "id": "9d9485b2",
   "metadata": {},
   "outputs": [
    {
     "data": {
      "text/html": [
       "<div>\n",
       "<style scoped>\n",
       "    .dataframe tbody tr th:only-of-type {\n",
       "        vertical-align: middle;\n",
       "    }\n",
       "\n",
       "    .dataframe tbody tr th {\n",
       "        vertical-align: top;\n",
       "    }\n",
       "\n",
       "    .dataframe thead th {\n",
       "        text-align: right;\n",
       "    }\n",
       "</style>\n",
       "<table border=\"1\" class=\"dataframe\">\n",
       "  <thead>\n",
       "    <tr style=\"text-align: right;\">\n",
       "      <th></th>\n",
       "      <th>Temperature</th>\n",
       "      <th>Humidity</th>\n",
       "      <th>pm2_5</th>\n",
       "      <th>CO</th>\n",
       "    </tr>\n",
       "  </thead>\n",
       "  <tbody>\n",
       "    <tr>\n",
       "      <th>0</th>\n",
       "      <td>22.40</td>\n",
       "      <td>19.995</td>\n",
       "      <td>0.0</td>\n",
       "      <td>0.92</td>\n",
       "    </tr>\n",
       "    <tr>\n",
       "      <th>1</th>\n",
       "      <td>24.93</td>\n",
       "      <td>20.730</td>\n",
       "      <td>0.0</td>\n",
       "      <td>0.97</td>\n",
       "    </tr>\n",
       "    <tr>\n",
       "      <th>2</th>\n",
       "      <td>23.44</td>\n",
       "      <td>17.387</td>\n",
       "      <td>0.0</td>\n",
       "      <td>17.40</td>\n",
       "    </tr>\n",
       "    <tr>\n",
       "      <th>3</th>\n",
       "      <td>22.50</td>\n",
       "      <td>18.725</td>\n",
       "      <td>0.0</td>\n",
       "      <td>1.70</td>\n",
       "    </tr>\n",
       "    <tr>\n",
       "      <th>4</th>\n",
       "      <td>22.00</td>\n",
       "      <td>20.622</td>\n",
       "      <td>0.0</td>\n",
       "      <td>22.10</td>\n",
       "    </tr>\n",
       "  </tbody>\n",
       "</table>\n",
       "</div>"
      ],
      "text/plain": [
       "   Temperature  Humidity  pm2_5     CO\n",
       "0        22.40    19.995    0.0   0.92\n",
       "1        24.93    20.730    0.0   0.97\n",
       "2        23.44    17.387    0.0  17.40\n",
       "3        22.50    18.725    0.0   1.70\n",
       "4        22.00    20.622    0.0  22.10"
      ]
     },
     "execution_count": 11,
     "metadata": {},
     "output_type": "execute_result"
    }
   ],
   "source": [
    "data.head()"
   ]
  },
  {
   "cell_type": "code",
   "execution_count": 12,
   "id": "c7282f82",
   "metadata": {},
   "outputs": [
    {
     "data": {
      "text/plain": [
       "(4999, 4)"
      ]
     },
     "execution_count": 12,
     "metadata": {},
     "output_type": "execute_result"
    }
   ],
   "source": [
    "data.shape"
   ]
  },
  {
   "cell_type": "markdown",
   "id": "b3c8a2ab",
   "metadata": {},
   "source": [
    "## Data understanding"
   ]
  },
  {
   "cell_type": "code",
   "execution_count": 13,
   "id": "017424f0",
   "metadata": {},
   "outputs": [
    {
     "name": "stdout",
     "output_type": "stream",
     "text": [
      "<class 'pandas.core.frame.DataFrame'>\n",
      "RangeIndex: 4999 entries, 0 to 4998\n",
      "Data columns (total 4 columns):\n",
      " #   Column       Non-Null Count  Dtype  \n",
      "---  ------       --------------  -----  \n",
      " 0   Temperature  4999 non-null   float64\n",
      " 1   Humidity     4999 non-null   float64\n",
      " 2   pm2_5        4999 non-null   float64\n",
      " 3   CO           4999 non-null   float64\n",
      "dtypes: float64(4)\n",
      "memory usage: 156.3 KB\n"
     ]
    }
   ],
   "source": [
    "data.info()"
   ]
  },
  {
   "cell_type": "code",
   "execution_count": 14,
   "id": "a719c929",
   "metadata": {},
   "outputs": [
    {
     "data": {
      "text/plain": [
       "Temperature    0\n",
       "Humidity       0\n",
       "pm2_5          0\n",
       "CO             0\n",
       "dtype: int64"
      ]
     },
     "execution_count": 14,
     "metadata": {},
     "output_type": "execute_result"
    }
   ],
   "source": [
    "data.isnull().sum()"
   ]
  },
  {
   "cell_type": "code",
   "execution_count": 15,
   "id": "89bf4e2c",
   "metadata": {},
   "outputs": [
    {
     "data": {
      "text/html": [
       "<div>\n",
       "<style scoped>\n",
       "    .dataframe tbody tr th:only-of-type {\n",
       "        vertical-align: middle;\n",
       "    }\n",
       "\n",
       "    .dataframe tbody tr th {\n",
       "        vertical-align: top;\n",
       "    }\n",
       "\n",
       "    .dataframe thead th {\n",
       "        text-align: right;\n",
       "    }\n",
       "</style>\n",
       "<table border=\"1\" class=\"dataframe\">\n",
       "  <thead>\n",
       "    <tr style=\"text-align: right;\">\n",
       "      <th></th>\n",
       "      <th>Temperature</th>\n",
       "      <th>Humidity</th>\n",
       "      <th>pm2_5</th>\n",
       "      <th>CO</th>\n",
       "    </tr>\n",
       "  </thead>\n",
       "  <tbody>\n",
       "    <tr>\n",
       "      <th>count</th>\n",
       "      <td>4999.000000</td>\n",
       "      <td>4999.000000</td>\n",
       "      <td>4999.000000</td>\n",
       "      <td>4999.000000</td>\n",
       "    </tr>\n",
       "    <tr>\n",
       "      <th>mean</th>\n",
       "      <td>32.171189</td>\n",
       "      <td>0.818006</td>\n",
       "      <td>6.569348</td>\n",
       "      <td>0.372903</td>\n",
       "    </tr>\n",
       "    <tr>\n",
       "      <th>std</th>\n",
       "      <td>13.715349</td>\n",
       "      <td>5.731150</td>\n",
       "      <td>14.711733</td>\n",
       "      <td>4.086251</td>\n",
       "    </tr>\n",
       "    <tr>\n",
       "      <th>min</th>\n",
       "      <td>0.000000</td>\n",
       "      <td>0.000000</td>\n",
       "      <td>0.000000</td>\n",
       "      <td>0.000000</td>\n",
       "    </tr>\n",
       "    <tr>\n",
       "      <th>25%</th>\n",
       "      <td>19.267000</td>\n",
       "      <td>0.000000</td>\n",
       "      <td>0.020000</td>\n",
       "      <td>0.000000</td>\n",
       "    </tr>\n",
       "    <tr>\n",
       "      <th>50%</th>\n",
       "      <td>31.681000</td>\n",
       "      <td>0.000000</td>\n",
       "      <td>0.680000</td>\n",
       "      <td>0.000000</td>\n",
       "    </tr>\n",
       "    <tr>\n",
       "      <th>75%</th>\n",
       "      <td>43.572000</td>\n",
       "      <td>0.000000</td>\n",
       "      <td>4.520000</td>\n",
       "      <td>0.000000</td>\n",
       "    </tr>\n",
       "    <tr>\n",
       "      <th>max</th>\n",
       "      <td>66.080000</td>\n",
       "      <td>55.004000</td>\n",
       "      <td>175.810000</td>\n",
       "      <td>132.070000</td>\n",
       "    </tr>\n",
       "  </tbody>\n",
       "</table>\n",
       "</div>"
      ],
      "text/plain": [
       "       Temperature     Humidity        pm2_5           CO\n",
       "count  4999.000000  4999.000000  4999.000000  4999.000000\n",
       "mean     32.171189     0.818006     6.569348     0.372903\n",
       "std      13.715349     5.731150    14.711733     4.086251\n",
       "min       0.000000     0.000000     0.000000     0.000000\n",
       "25%      19.267000     0.000000     0.020000     0.000000\n",
       "50%      31.681000     0.000000     0.680000     0.000000\n",
       "75%      43.572000     0.000000     4.520000     0.000000\n",
       "max      66.080000    55.004000   175.810000   132.070000"
      ]
     },
     "execution_count": 15,
     "metadata": {},
     "output_type": "execute_result"
    }
   ],
   "source": [
    "data.describe()"
   ]
  },
  {
   "cell_type": "code",
   "execution_count": 16,
   "id": "aff9e6e2",
   "metadata": {},
   "outputs": [
    {
     "data": {
      "text/plain": [
       "Temperature    1508\n",
       "Humidity         45\n",
       "pm2_5          1368\n",
       "CO              113\n",
       "dtype: int64"
      ]
     },
     "execution_count": 16,
     "metadata": {},
     "output_type": "execute_result"
    }
   ],
   "source": [
    "data.nunique()"
   ]
  },
  {
   "cell_type": "code",
   "execution_count": 17,
   "id": "a7263e14",
   "metadata": {},
   "outputs": [
    {
     "data": {
      "text/plain": [
       "Index(['Temperature', 'Humidity', 'pm2_5', 'CO'], dtype='object')"
      ]
     },
     "execution_count": 17,
     "metadata": {},
     "output_type": "execute_result"
    }
   ],
   "source": [
    "data.columns"
   ]
  },
  {
   "cell_type": "markdown",
   "id": "decfff41",
   "metadata": {},
   "source": [
    "## Calculating Air Quality Index"
   ]
  },
  {
   "cell_type": "code",
   "execution_count": 18,
   "id": "5d75d7af",
   "metadata": {},
   "outputs": [
    {
     "data": {
      "text/html": [
       "<div>\n",
       "<style scoped>\n",
       "    .dataframe tbody tr th:only-of-type {\n",
       "        vertical-align: middle;\n",
       "    }\n",
       "\n",
       "    .dataframe tbody tr th {\n",
       "        vertical-align: top;\n",
       "    }\n",
       "\n",
       "    .dataframe thead th {\n",
       "        text-align: right;\n",
       "    }\n",
       "</style>\n",
       "<table border=\"1\" class=\"dataframe\">\n",
       "  <thead>\n",
       "    <tr style=\"text-align: right;\">\n",
       "      <th></th>\n",
       "      <th>CO</th>\n",
       "      <th>coi</th>\n",
       "    </tr>\n",
       "  </thead>\n",
       "  <tbody>\n",
       "    <tr>\n",
       "      <th>0</th>\n",
       "      <td>0.92</td>\n",
       "      <td>10.454545</td>\n",
       "    </tr>\n",
       "    <tr>\n",
       "      <th>1</th>\n",
       "      <td>0.97</td>\n",
       "      <td>11.022727</td>\n",
       "    </tr>\n",
       "    <tr>\n",
       "      <th>2</th>\n",
       "      <td>17.40</td>\n",
       "      <td>343.478261</td>\n",
       "    </tr>\n",
       "    <tr>\n",
       "      <th>3</th>\n",
       "      <td>1.70</td>\n",
       "      <td>19.318182</td>\n",
       "    </tr>\n",
       "    <tr>\n",
       "      <th>4</th>\n",
       "      <td>22.10</td>\n",
       "      <td>445.652174</td>\n",
       "    </tr>\n",
       "  </tbody>\n",
       "</table>\n",
       "</div>"
      ],
      "text/plain": [
       "      CO         coi\n",
       "0   0.92   10.454545\n",
       "1   0.97   11.022727\n",
       "2  17.40  343.478261\n",
       "3   1.70   19.318182\n",
       "4  22.10  445.652174"
      ]
     },
     "execution_count": 18,
     "metadata": {},
     "output_type": "execute_result"
    }
   ],
   "source": [
    "#Function to calculate co individual pollutant index(coi)\n",
    "def calculate_coi(co):\n",
    "    coi=0\n",
    "    if co<= 4.4:\n",
    "        coi = co * 50 / 4.4\n",
    "    elif co <= 9.4:\n",
    "        coi = 50 + ((co - 4.4) * 50 / 5)\n",
    "    elif co <= 12.4:\n",
    "        coi = 100 + ((co - 9.4) * 100 / 3)\n",
    "    elif co <= 15.4:\n",
    "        coi = 200 + ((co - 12.4) * 100 / 3)\n",
    "    else:\n",
    "        coi = 300 + ((co - 15.4) * 100 / 4.6)\n",
    "    \n",
    "    return coi\n",
    "data['coi']=data['CO'].apply(calculate_coi)\n",
    "df= data[['CO','coi']]\n",
    "df.head()"
   ]
  },
  {
   "cell_type": "code",
   "execution_count": 19,
   "id": "30f7a3e3",
   "metadata": {},
   "outputs": [
    {
     "data": {
      "text/html": [
       "<div>\n",
       "<style scoped>\n",
       "    .dataframe tbody tr th:only-of-type {\n",
       "        vertical-align: middle;\n",
       "    }\n",
       "\n",
       "    .dataframe tbody tr th {\n",
       "        vertical-align: top;\n",
       "    }\n",
       "\n",
       "    .dataframe thead th {\n",
       "        text-align: right;\n",
       "    }\n",
       "</style>\n",
       "<table border=\"1\" class=\"dataframe\">\n",
       "  <thead>\n",
       "    <tr style=\"text-align: right;\">\n",
       "      <th></th>\n",
       "      <th>pm2_5</th>\n",
       "      <th>pm25i</th>\n",
       "    </tr>\n",
       "  </thead>\n",
       "  <tbody>\n",
       "    <tr>\n",
       "      <th>0</th>\n",
       "      <td>0.0</td>\n",
       "      <td>0.0</td>\n",
       "    </tr>\n",
       "    <tr>\n",
       "      <th>1</th>\n",
       "      <td>0.0</td>\n",
       "      <td>0.0</td>\n",
       "    </tr>\n",
       "    <tr>\n",
       "      <th>2</th>\n",
       "      <td>0.0</td>\n",
       "      <td>0.0</td>\n",
       "    </tr>\n",
       "    <tr>\n",
       "      <th>3</th>\n",
       "      <td>0.0</td>\n",
       "      <td>0.0</td>\n",
       "    </tr>\n",
       "    <tr>\n",
       "      <th>4</th>\n",
       "      <td>0.0</td>\n",
       "      <td>0.0</td>\n",
       "    </tr>\n",
       "  </tbody>\n",
       "</table>\n",
       "</div>"
      ],
      "text/plain": [
       "   pm2_5  pm25i\n",
       "0    0.0    0.0\n",
       "1    0.0    0.0\n",
       "2    0.0    0.0\n",
       "3    0.0    0.0\n",
       "4    0.0    0.0"
      ]
     },
     "execution_count": 19,
     "metadata": {},
     "output_type": "execute_result"
    }
   ],
   "source": [
    "#Function to calculate pm2.5 individual pollutant index(pm25i)\n",
    "def calculate_pm25i(pm25_concentration):\n",
    "    if pm25_concentration <= 12:\n",
    "        pm25i = pm25_concentration * 50 / 12\n",
    "    elif pm25_concentration <= 35.4:\n",
    "        pm25i = 50 + ((pm25_concentration - 12) * 50 / 23.4)\n",
    "    elif pm25_concentration <= 55.4:\n",
    "        pm25i = 100 + ((pm25_concentration - 35.4) * 100 / 20)\n",
    "    elif pm25_concentration <= 150.4:\n",
    "        pm25i = 200 + ((pm25_concentration - 55.4) * 100 / 95)\n",
    "    elif pm25_concentration <= 250.4:\n",
    "        pm25i = 300 + ((pm25_concentration - 150.4) * 100 / 100)\n",
    "    elif pm25_concentration <= 350.4:\n",
    "        pm25i = 400 + ((pm25_concentration - 250.4) * 100 / 100)\n",
    "    elif pm25_concentration <= 500.4:\n",
    "        pm25i = 500 + ((pm25_concentration - 350.4) * 100 / 150)\n",
    "    else:\n",
    "        pm25i = None  \n",
    "        \n",
    "    return pm25i\n",
    "\n",
    "data['pm25i']=data['pm2_5'].apply(calculate_pm25i)\n",
    "df= data[['pm2_5','pm25i']]\n",
    "df.head()\n",
    "\n"
   ]
  },
  {
   "cell_type": "code",
   "execution_count": 21,
   "id": "15820a7b",
   "metadata": {},
   "outputs": [
    {
     "data": {
      "text/html": [
       "<div>\n",
       "<style scoped>\n",
       "    .dataframe tbody tr th:only-of-type {\n",
       "        vertical-align: middle;\n",
       "    }\n",
       "\n",
       "    .dataframe tbody tr th {\n",
       "        vertical-align: top;\n",
       "    }\n",
       "\n",
       "    .dataframe thead th {\n",
       "        text-align: right;\n",
       "    }\n",
       "</style>\n",
       "<table border=\"1\" class=\"dataframe\">\n",
       "  <thead>\n",
       "    <tr style=\"text-align: right;\">\n",
       "      <th></th>\n",
       "      <th>pm25i</th>\n",
       "      <th>coi</th>\n",
       "      <th>Temperature</th>\n",
       "      <th>Humidity</th>\n",
       "      <th>AQI</th>\n",
       "    </tr>\n",
       "  </thead>\n",
       "  <tbody>\n",
       "    <tr>\n",
       "      <th>0</th>\n",
       "      <td>0.0</td>\n",
       "      <td>10.454545</td>\n",
       "      <td>22.40</td>\n",
       "      <td>19.995</td>\n",
       "      <td>0.000000</td>\n",
       "    </tr>\n",
       "    <tr>\n",
       "      <th>1</th>\n",
       "      <td>0.0</td>\n",
       "      <td>11.022727</td>\n",
       "      <td>24.93</td>\n",
       "      <td>20.730</td>\n",
       "      <td>0.000000</td>\n",
       "    </tr>\n",
       "    <tr>\n",
       "      <th>2</th>\n",
       "      <td>0.0</td>\n",
       "      <td>343.478261</td>\n",
       "      <td>23.44</td>\n",
       "      <td>17.387</td>\n",
       "      <td>343.478261</td>\n",
       "    </tr>\n",
       "    <tr>\n",
       "      <th>3</th>\n",
       "      <td>0.0</td>\n",
       "      <td>19.318182</td>\n",
       "      <td>22.50</td>\n",
       "      <td>18.725</td>\n",
       "      <td>0.000000</td>\n",
       "    </tr>\n",
       "    <tr>\n",
       "      <th>4</th>\n",
       "      <td>0.0</td>\n",
       "      <td>445.652174</td>\n",
       "      <td>22.00</td>\n",
       "      <td>20.622</td>\n",
       "      <td>445.652174</td>\n",
       "    </tr>\n",
       "  </tbody>\n",
       "</table>\n",
       "</div>"
      ],
      "text/plain": [
       "   pm25i         coi  Temperature  Humidity         AQI\n",
       "0    0.0   10.454545        22.40    19.995    0.000000\n",
       "1    0.0   11.022727        24.93    20.730    0.000000\n",
       "2    0.0  343.478261        23.44    17.387  343.478261\n",
       "3    0.0   19.318182        22.50    18.725    0.000000\n",
       "4    0.0  445.652174        22.00    20.622  445.652174"
      ]
     },
     "execution_count": 21,
     "metadata": {},
     "output_type": "execute_result"
    }
   ],
   "source": [
    "def calculate_aqi(pm25i, coi, temperature, humidity):\n",
    "    aqi=0\n",
    "    if(pm25i>coi and pm25i>temperature and pm25i>humidity):\n",
    "        aqi=pm25i\n",
    "    if(coi>pm25i and coi>temperature and coi>humidity):\n",
    "        aqi=coi\n",
    "        \n",
    "    return aqi\n",
    "data['AQI']=data.apply(lambda x:calculate_aqi(x['pm25i'],x['coi'],x['Temperature'],x['Humidity']),axis=1)\n",
    "df= data[['pm25i','coi','Temperature','Humidity','AQI']]\n",
    "df.head()"
   ]
  },
  {
   "cell_type": "code",
   "execution_count": 22,
   "id": "f0a4539d",
   "metadata": {},
   "outputs": [
    {
     "data": {
      "text/html": [
       "<div>\n",
       "<style scoped>\n",
       "    .dataframe tbody tr th:only-of-type {\n",
       "        vertical-align: middle;\n",
       "    }\n",
       "\n",
       "    .dataframe tbody tr th {\n",
       "        vertical-align: top;\n",
       "    }\n",
       "\n",
       "    .dataframe thead th {\n",
       "        text-align: right;\n",
       "    }\n",
       "</style>\n",
       "<table border=\"1\" class=\"dataframe\">\n",
       "  <thead>\n",
       "    <tr style=\"text-align: right;\">\n",
       "      <th></th>\n",
       "      <th>pm25i</th>\n",
       "      <th>coi</th>\n",
       "      <th>Temperature</th>\n",
       "      <th>Humidity</th>\n",
       "      <th>AQI</th>\n",
       "      <th>AQI_Range</th>\n",
       "    </tr>\n",
       "  </thead>\n",
       "  <tbody>\n",
       "    <tr>\n",
       "      <th>0</th>\n",
       "      <td>0.0</td>\n",
       "      <td>10.454545</td>\n",
       "      <td>22.40</td>\n",
       "      <td>19.995</td>\n",
       "      <td>0.000000</td>\n",
       "      <td>Good</td>\n",
       "    </tr>\n",
       "    <tr>\n",
       "      <th>1</th>\n",
       "      <td>0.0</td>\n",
       "      <td>11.022727</td>\n",
       "      <td>24.93</td>\n",
       "      <td>20.730</td>\n",
       "      <td>0.000000</td>\n",
       "      <td>Good</td>\n",
       "    </tr>\n",
       "    <tr>\n",
       "      <th>2</th>\n",
       "      <td>0.0</td>\n",
       "      <td>343.478261</td>\n",
       "      <td>23.44</td>\n",
       "      <td>17.387</td>\n",
       "      <td>343.478261</td>\n",
       "      <td>Very Unhealthy</td>\n",
       "    </tr>\n",
       "    <tr>\n",
       "      <th>3</th>\n",
       "      <td>0.0</td>\n",
       "      <td>19.318182</td>\n",
       "      <td>22.50</td>\n",
       "      <td>18.725</td>\n",
       "      <td>0.000000</td>\n",
       "      <td>Good</td>\n",
       "    </tr>\n",
       "    <tr>\n",
       "      <th>4</th>\n",
       "      <td>0.0</td>\n",
       "      <td>445.652174</td>\n",
       "      <td>22.00</td>\n",
       "      <td>20.622</td>\n",
       "      <td>445.652174</td>\n",
       "      <td>Hazardous</td>\n",
       "    </tr>\n",
       "  </tbody>\n",
       "</table>\n",
       "</div>"
      ],
      "text/plain": [
       "   pm25i         coi  Temperature  Humidity         AQI       AQI_Range\n",
       "0    0.0   10.454545        22.40    19.995    0.000000            Good\n",
       "1    0.0   11.022727        24.93    20.730    0.000000            Good\n",
       "2    0.0  343.478261        23.44    17.387  343.478261  Very Unhealthy\n",
       "3    0.0   19.318182        22.50    18.725    0.000000            Good\n",
       "4    0.0  445.652174        22.00    20.622  445.652174       Hazardous"
      ]
     },
     "execution_count": 22,
     "metadata": {},
     "output_type": "execute_result"
    }
   ],
   "source": [
    "def AQI_Range(x):\n",
    "    if x<=50:\n",
    "        return \"Good\"\n",
    "    elif x>50 and x<=100:\n",
    "        return \"Moderate\"\n",
    "    elif x>100 and x<=200:\n",
    "        return \"Poor\"\n",
    "    elif x>200 and x<=300:\n",
    "        return \"Unhealthy\"\n",
    "    elif x>300 and x<=400:\n",
    "        return \"Very Unhealthy\"\n",
    "    elif x>400:\n",
    "        return \"Hazardous\"\n",
    "    \n",
    "df['AQI_Range']=data['AQI'].apply(AQI_Range)\n",
    "df.head()"
   ]
  },
  {
   "cell_type": "code",
   "execution_count": 23,
   "id": "80128841",
   "metadata": {},
   "outputs": [
    {
     "data": {
      "text/plain": [
       "Good              4105\n",
       "Moderate           606\n",
       "Poor               150\n",
       "Unhealthy           96\n",
       "Hazardous           28\n",
       "Very Unhealthy      14\n",
       "Name: AQI_Range, dtype: int64"
      ]
     },
     "execution_count": 23,
     "metadata": {},
     "output_type": "execute_result"
    }
   ],
   "source": [
    "df['AQI_Range'].value_counts()"
   ]
  },
  {
   "cell_type": "markdown",
   "id": "67263b95",
   "metadata": {},
   "source": [
    "## Splitting dataset into dependent and independent column"
   ]
  },
  {
   "cell_type": "code",
   "execution_count": 24,
   "id": "4d1d1e74",
   "metadata": {},
   "outputs": [
    {
     "data": {
      "text/html": [
       "<div>\n",
       "<style scoped>\n",
       "    .dataframe tbody tr th:only-of-type {\n",
       "        vertical-align: middle;\n",
       "    }\n",
       "\n",
       "    .dataframe tbody tr th {\n",
       "        vertical-align: top;\n",
       "    }\n",
       "\n",
       "    .dataframe thead th {\n",
       "        text-align: right;\n",
       "    }\n",
       "</style>\n",
       "<table border=\"1\" class=\"dataframe\">\n",
       "  <thead>\n",
       "    <tr style=\"text-align: right;\">\n",
       "      <th></th>\n",
       "      <th>pm25i</th>\n",
       "      <th>coi</th>\n",
       "      <th>Temperature</th>\n",
       "      <th>Humidity</th>\n",
       "    </tr>\n",
       "  </thead>\n",
       "  <tbody>\n",
       "    <tr>\n",
       "      <th>0</th>\n",
       "      <td>0.0</td>\n",
       "      <td>10.454545</td>\n",
       "      <td>22.40</td>\n",
       "      <td>19.995</td>\n",
       "    </tr>\n",
       "    <tr>\n",
       "      <th>1</th>\n",
       "      <td>0.0</td>\n",
       "      <td>11.022727</td>\n",
       "      <td>24.93</td>\n",
       "      <td>20.730</td>\n",
       "    </tr>\n",
       "    <tr>\n",
       "      <th>2</th>\n",
       "      <td>0.0</td>\n",
       "      <td>343.478261</td>\n",
       "      <td>23.44</td>\n",
       "      <td>17.387</td>\n",
       "    </tr>\n",
       "    <tr>\n",
       "      <th>3</th>\n",
       "      <td>0.0</td>\n",
       "      <td>19.318182</td>\n",
       "      <td>22.50</td>\n",
       "      <td>18.725</td>\n",
       "    </tr>\n",
       "    <tr>\n",
       "      <th>4</th>\n",
       "      <td>0.0</td>\n",
       "      <td>445.652174</td>\n",
       "      <td>22.00</td>\n",
       "      <td>20.622</td>\n",
       "    </tr>\n",
       "  </tbody>\n",
       "</table>\n",
       "</div>"
      ],
      "text/plain": [
       "   pm25i         coi  Temperature  Humidity\n",
       "0    0.0   10.454545        22.40    19.995\n",
       "1    0.0   11.022727        24.93    20.730\n",
       "2    0.0  343.478261        23.44    17.387\n",
       "3    0.0   19.318182        22.50    18.725\n",
       "4    0.0  445.652174        22.00    20.622"
      ]
     },
     "execution_count": 24,
     "metadata": {},
     "output_type": "execute_result"
    }
   ],
   "source": [
    "X=df[['pm25i','coi','Temperature','Humidity']]\n",
    "Y=df['AQI']\n",
    "X.head()"
   ]
  },
  {
   "cell_type": "code",
   "execution_count": 25,
   "id": "4e9d8ab1",
   "metadata": {},
   "outputs": [
    {
     "data": {
      "text/plain": [
       "0      0.000000\n",
       "1      0.000000\n",
       "2    343.478261\n",
       "3      0.000000\n",
       "4    445.652174\n",
       "Name: AQI, dtype: float64"
      ]
     },
     "execution_count": 25,
     "metadata": {},
     "output_type": "execute_result"
    }
   ],
   "source": [
    "Y.head()"
   ]
  },
  {
   "cell_type": "code",
   "execution_count": 27,
   "id": "27c5a59b",
   "metadata": {},
   "outputs": [
    {
     "name": "stdout",
     "output_type": "stream",
     "text": [
      "(3999, 4) (1000, 4) (3999,) (1000,)\n"
     ]
    }
   ],
   "source": [
    "X_train,X_test,Y_train,Y_test=train_test_split(X,Y,test_size=0.2,random_state=70)\n",
    "print(X_train.shape,X_test.shape,Y_train.shape,Y_test.shape)"
   ]
  },
  {
   "cell_type": "markdown",
   "id": "1e28eda8",
   "metadata": {},
   "source": [
    "# RandomForestRegressor"
   ]
  },
  {
   "cell_type": "code",
   "execution_count": 28,
   "id": "566a6d51",
   "metadata": {},
   "outputs": [],
   "source": [
    "RF=RandomForestRegressor().fit(X_train,Y_train)\n"
   ]
  },
  {
   "cell_type": "code",
   "execution_count": 29,
   "id": "a191ce7b",
   "metadata": {},
   "outputs": [],
   "source": [
    "#predicting train\n",
    "Train_preds1=RF.predict(X_train)\n",
    "#predicting test\n",
    "Test_preds1=RF.predict(X_test)\n",
    "\n"
   ]
  },
  {
   "cell_type": "code",
   "execution_count": 30,
   "id": "45e56024",
   "metadata": {},
   "outputs": [
    {
     "name": "stdout",
     "output_type": "stream",
     "text": [
      "RMSE TrainingData= 3.9138053103233266\n",
      "RMSE TestData= 3.738538726000864\n",
      "--------------------------------------------------\n",
      "RSquared value on train: 0.998526191665603\n",
      "RSquared value on test: 0.9957138711222199\n"
     ]
    }
   ],
   "source": [
    "RMSE_train=(np.sqrt(metrics.mean_squared_error(Y_train, Train_preds1))) \n",
    "RMSE_test=(np.sqrt(metrics.mean_squared_error(Y_test, Test_preds1))) \n",
    "print(\"RMSE TrainingData=\", str(RMSE_train)) \n",
    "print(\"RMSE TestData=\", str(RMSE_test)) \n",
    "print('-'*50) \n",
    "print('RSquared value on train:',RF.score(X_train, Y_train)) \n",
    "print('RSquared value on test:',RF.score (X_test, Y_test))\n"
   ]
  },
  {
   "cell_type": "markdown",
   "id": "34e02417",
   "metadata": {},
   "source": [
    "## Logistic Regression"
   ]
  },
  {
   "cell_type": "code",
   "execution_count": 81,
   "id": "ef4d85d3",
   "metadata": {},
   "outputs": [],
   "source": [
    "X2=df[['pm25i','coi','Temperature','Humidity']]\n",
    "Y2=df['AQI_Range']"
   ]
  },
  {
   "cell_type": "code",
   "execution_count": 82,
   "id": "7870d643",
   "metadata": {},
   "outputs": [],
   "source": [
    "X_train2,X_test2,Y_train2,Y_test2=train_test_split(X2,Y2,test_size=0.33,random_state=70)"
   ]
  },
  {
   "cell_type": "code",
   "execution_count": 83,
   "id": "1f19dd9a",
   "metadata": {},
   "outputs": [],
   "source": [
    "log_reg =linear_model.LogisticRegression().fit(X_train2,Y_train2)"
   ]
  },
  {
   "cell_type": "code",
   "execution_count": 84,
   "id": "2598aac3",
   "metadata": {},
   "outputs": [
    {
     "name": "stdout",
     "output_type": "stream",
     "text": [
      "Model accuracy on train is:  0.9441624365482234\n"
     ]
    }
   ],
   "source": [
    "#predict on train\n",
    "Train_preds2 =log_reg.predict(X_train2)\n",
    "\n",
    "#accuracy on train\n",
    "print(\"Model accuracy on train is: \",accuracy_score(Y_train2, Train_preds2))\n",
    "\n"
   ]
  },
  {
   "cell_type": "code",
   "execution_count": 85,
   "id": "8f7142c3",
   "metadata": {},
   "outputs": [
    {
     "name": "stdout",
     "output_type": "stream",
     "text": [
      "Model accuracy on test is:  0.9472727272727273\n",
      "--------------------------------------------------\n",
      "kappaScore is:  0.8290137110635454\n"
     ]
    }
   ],
   "source": [
    "#predict on test\n",
    "Test_preds2 =log_reg.predict(X_test2)\n",
    "\n",
    "#accuracy on test\n",
    "print(\"Model accuracy on test is: \", accuracy_score(Y_test2,Test_preds2))\n",
    "print('-'*50)\n",
    "\n",
    "#kappa score.\n",
    "print(\"kappaScore is: \",metrics.cohen_kappa_score(Y_test2,Test_preds2))"
   ]
  },
  {
   "cell_type": "markdown",
   "id": "d5f73fd9",
   "metadata": {},
   "source": [
    "### Testing with random values"
   ]
  },
  {
   "cell_type": "code",
   "execution_count": 86,
   "id": "67117ed0",
   "metadata": {},
   "outputs": [
    {
     "data": {
      "text/plain": [
       "array(['Unhealthy'], dtype=object)"
      ]
     },
     "execution_count": 86,
     "metadata": {},
     "output_type": "execute_result"
    }
   ],
   "source": [
    "log_reg.predict([[723.3,456.4,77.8,92.4]])"
   ]
  },
  {
   "cell_type": "code",
   "execution_count": 87,
   "id": "67c29195",
   "metadata": {},
   "outputs": [
    {
     "data": {
      "text/plain": [
       "array(['Good'], dtype=object)"
      ]
     },
     "execution_count": 87,
     "metadata": {},
     "output_type": "execute_result"
    }
   ],
   "source": [
    "log_reg.predict([[200.3,46.4,77.8,92.4]])"
   ]
  }
 ],
 "metadata": {
  "kernelspec": {
   "display_name": "Python 3 (ipykernel)",
   "language": "python",
   "name": "python3"
  },
  "language_info": {
   "codemirror_mode": {
    "name": "ipython",
    "version": 3
   },
   "file_extension": ".py",
   "mimetype": "text/x-python",
   "name": "python",
   "nbconvert_exporter": "python",
   "pygments_lexer": "ipython3",
   "version": "3.9.13"
  }
 },
 "nbformat": 4,
 "nbformat_minor": 5
}
